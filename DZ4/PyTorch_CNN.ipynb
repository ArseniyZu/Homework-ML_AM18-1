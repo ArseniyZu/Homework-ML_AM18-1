{
  "nbformat": 4,
  "nbformat_minor": 0,
  "metadata": {
    "accelerator": "GPU",
    "colab": {
      "name": "PyTorch_CNN.ipynb",
      "provenance": [],
      "collapsed_sections": []
    },
    "kernelspec": {
      "display_name": "Python 3",
      "language": "python",
      "name": "python3"
    },
    "language_info": {
      "codemirror_mode": {
        "name": "ipython",
        "version": 3
      },
      "file_extension": ".py",
      "mimetype": "text/x-python",
      "name": "python",
      "nbconvert_exporter": "python",
      "pygments_lexer": "ipython3",
      "version": "3.7.3"
    }
  },
  "cells": [
    {
      "cell_type": "markdown",
      "metadata": {
        "id": "6G8crmARtwMI"
      },
      "source": [
        "# Задание 4.2 - сверточные нейронные сети (CNNs) в PyTorch\n",
        "\n",
        "Это упражнение мы буде выполнять в Google Colab - https://colab.research.google.com/  \n",
        "Google Colab позволяет запускать код в notebook в облаке Google, где можно воспользоваться бесплатным GPU!  \n"
      ]
    },
    {
      "cell_type": "code",
      "metadata": {
        "colab": {
          "base_uri": "https://localhost:8080/"
        },
        "id": "FcXBeP1O7cnY",
        "outputId": "1a21827c-9c5d-4a6e-d0f4-31fe85e7b104"
      },
      "source": [
        "# Запустите эту ячейку если работаете в Colab\n",
        "import os\n",
        "if not os.path.exists('PyTorch_CNN.ipynb'):\n",
        "    !git clone https://github.com/balezz/tad_ml_dl_2021.git\n",
        "%cd tad_ml_dl_2021/data\n",
        "! wget -c http://ufldl.stanford.edu/housenumbers/train_32x32.mat http://ufldl.stanford.edu/housenumbers/test_32x32.mat\n",
        "%cd ../Assignment4"
      ],
      "execution_count": 1,
      "outputs": [
        {
          "output_type": "stream",
          "text": [
            "Cloning into 'tad_ml_dl_2021'...\n",
            "remote: Enumerating objects: 136, done.\u001b[K\n",
            "remote: Counting objects: 100% (136/136), done.\u001b[K\n",
            "remote: Compressing objects: 100% (78/78), done.\u001b[K\n",
            "remote: Total 228 (delta 57), reused 130 (delta 57), pack-reused 92\u001b[K\n",
            "Receiving objects: 100% (228/228), 2.59 MiB | 21.02 MiB/s, done.\n",
            "Resolving deltas: 100% (80/80), done.\n",
            "/content/tad_ml_dl_2021/data\n",
            "--2021-04-08 23:03:34--  http://ufldl.stanford.edu/housenumbers/train_32x32.mat\n",
            "Resolving ufldl.stanford.edu (ufldl.stanford.edu)... 171.64.68.10\n",
            "Connecting to ufldl.stanford.edu (ufldl.stanford.edu)|171.64.68.10|:80... connected.\n",
            "HTTP request sent, awaiting response... 200 OK\n",
            "Length: 182040794 (174M) [text/plain]\n",
            "Saving to: ‘train_32x32.mat’\n",
            "\n",
            "train_32x32.mat     100%[===================>] 173.61M  17.3MB/s    in 11s     \n",
            "\n",
            "2021-04-08 23:03:45 (15.6 MB/s) - ‘train_32x32.mat’ saved [182040794/182040794]\n",
            "\n",
            "--2021-04-08 23:03:45--  http://ufldl.stanford.edu/housenumbers/test_32x32.mat\n",
            "Reusing existing connection to ufldl.stanford.edu:80.\n",
            "HTTP request sent, awaiting response... 200 OK\n",
            "Length: 64275384 (61M) [text/plain]\n",
            "Saving to: ‘test_32x32.mat’\n",
            "\n",
            "test_32x32.mat      100%[===================>]  61.30M  20.0MB/s    in 3.1s    \n",
            "\n",
            "2021-04-08 23:03:48 (20.0 MB/s) - ‘test_32x32.mat’ saved [64275384/64275384]\n",
            "\n",
            "FINISHED --2021-04-08 23:03:48--\n",
            "Total wall clock time: 14s\n",
            "Downloaded: 2 files, 235M in 14s (16.5 MB/s)\n",
            "/content/tad_ml_dl_2021/Assignment4\n"
          ],
          "name": "stdout"
        }
      ]
    },
    {
      "cell_type": "code",
      "metadata": {
        "id": "-afwWw-Q85vD"
      },
      "source": [
        "from collections import namedtuple\n",
        "\n",
        "import matplotlib.pyplot as plt\n",
        "import numpy as np\n",
        "import PIL\n",
        "import torch\n",
        "import torch.nn as nn\n",
        "import torch.optim as optim\n",
        "import torchvision.datasets as dset\n",
        "from torch.utils.data.sampler import SubsetRandomSampler\n",
        "\n",
        "from torchvision import transforms"
      ],
      "execution_count": 2,
      "outputs": []
    },
    {
      "cell_type": "code",
      "metadata": {
        "id": "NNU-OD9O9ltP"
      },
      "source": [
        "device = torch.device(\"cuda:0\") # Let's make sure GPU is available!"
      ],
      "execution_count": 3,
      "outputs": []
    },
    {
      "cell_type": "markdown",
      "metadata": {
        "id": "CsLAH3LgtwML"
      },
      "source": [
        "# Загружаем данные"
      ]
    },
    {
      "cell_type": "code",
      "metadata": {
        "id": "YAvkoRx-9FsP"
      },
      "source": [
        "# First, lets load the dataset\n",
        "data_train = dset.SVHN('../data',\n",
        "                       transform=transforms.Compose([\n",
        "                           transforms.ToTensor(),\n",
        "                           transforms.Normalize(mean=[0.43,0.44,0.47],\n",
        "                                               std=[0.20,0.20,0.20])                           \n",
        "                       ])\n",
        "                      )\n",
        "data_test = dset.SVHN('../data', split='test', transform=transforms.Compose([\n",
        "                           transforms.ToTensor(),\n",
        "                           transforms.Normalize(mean=[0.43,0.44,0.47],\n",
        "                                               std=[0.20,0.20,0.20])                           \n",
        "                       ]))"
      ],
      "execution_count": 4,
      "outputs": []
    },
    {
      "cell_type": "markdown",
      "metadata": {
        "id": "ayEUPW1StwML"
      },
      "source": [
        "Разделяем данные на training и validation.\n",
        "\n",
        "На всякий случай для подробностей - https://pytorch.org/tutorials/beginner/data_loading_tutorial.html"
      ]
    },
    {
      "cell_type": "code",
      "metadata": {
        "id": "YRnr8CPg7Hli"
      },
      "source": [
        "batch_size = 64\n",
        "\n",
        "data_size = data_train.data.shape[0]\n",
        "validation_split = .2\n",
        "split = int(np.floor(validation_split * data_size))\n",
        "indices = list(range(data_size))\n",
        "np.random.shuffle(indices)\n",
        "\n",
        "train_indices, val_indices = indices[split:], indices[:split]\n",
        "\n",
        "train_sampler = SubsetRandomSampler(train_indices)\n",
        "val_sampler = SubsetRandomSampler(val_indices)\n",
        "\n",
        "train_loader = torch.utils.data.DataLoader(data_train, batch_size=batch_size, \n",
        "                                           sampler=train_sampler)\n",
        "val_loader = torch.utils.data.DataLoader(data_train, batch_size=batch_size,\n",
        "                                         sampler=val_sampler)"
      ],
      "execution_count": 5,
      "outputs": []
    },
    {
      "cell_type": "code",
      "metadata": {
        "id": "LyYvt-T67PBG"
      },
      "source": [
        "# We'll use a special helper module to shape it into a flat tensor\n",
        "class Flattener(nn.Module):\n",
        "    def forward(self, x):\n",
        "        batch_size, *_ = x.shape\n",
        "        return x.view(batch_size, -1)"
      ],
      "execution_count": 6,
      "outputs": []
    },
    {
      "cell_type": "markdown",
      "metadata": {
        "id": "6CgGaKUGtwMM"
      },
      "source": [
        "Создадим простейшую сеть с новыми слоями:  \n",
        "Convolutional - `nn.Conv2d`  \n",
        "MaxPool - `nn.MaxPool2d`"
      ]
    },
    {
      "cell_type": "code",
      "metadata": {
        "id": "w9SFVGZP7SQd"
      },
      "source": [
        "nn_model = nn.Sequential(\n",
        "            nn.Conv2d(3, 64, 3, padding=1),\n",
        "            nn.ReLU(inplace=True),\n",
        "            nn.MaxPool2d(4),\n",
        "            nn.Conv2d(64, 64, 3, padding=1),\n",
        "            nn.ReLU(inplace=True),\n",
        "            nn.MaxPool2d(4),    \n",
        "            Flattener(),\n",
        "            nn.Linear(64*2*2, 10),\n",
        "          )\n",
        "\n",
        "nn_model.type(torch.cuda.FloatTensor)\n",
        "nn_model.to(device)\n",
        "\n",
        "loss = nn.CrossEntropyLoss().type(torch.cuda.FloatTensor)\n",
        "optimizer = optim.SGD(nn_model.parameters(), lr=1e-1, weight_decay=1e-4)"
      ],
      "execution_count": 7,
      "outputs": []
    },
    {
      "cell_type": "markdown",
      "metadata": {
        "id": "ZYgHmqY1twMN"
      },
      "source": [
        "Восстановите функцию `compute_accuracy` из прошлого задания.  \n",
        "Единственное отличие в новом - она должна передать данные на GPU прежде чем прогонять через модель. Сделайте это так же, как это делает функция `train_model`"
      ]
    },
    {
      "cell_type": "code",
      "metadata": {
        "colab": {
          "base_uri": "https://localhost:8080/"
        },
        "id": "2ek3KVQK7hJ6",
        "outputId": "5c8dc9be-3355-4c2f-823f-de3db2e3e820"
      },
      "source": [
        "def train_model(model, train_loader, val_loader, loss, optimizer, num_epochs):    \n",
        "    loss_history = []\n",
        "    train_history = []\n",
        "    val_history = []\n",
        "    for epoch in range(num_epochs):\n",
        "        model.train() # Enter train mode\n",
        "        \n",
        "        loss_accum = 0\n",
        "        correct_samples = 0\n",
        "        total_samples = 0\n",
        "        for i_step, (x, y) in enumerate(train_loader):\n",
        "          \n",
        "            x_gpu = x.to(device)\n",
        "            y_gpu = y.to(device)\n",
        "            prediction = model(x_gpu)    \n",
        "            loss_value = loss(prediction, y_gpu)\n",
        "            optimizer.zero_grad()\n",
        "            loss_value.backward()\n",
        "            optimizer.step()\n",
        "            \n",
        "            _, indices = torch.max(prediction, 1)\n",
        "            correct_samples += torch.sum(indices == y_gpu)\n",
        "            total_samples += y.shape[0]\n",
        "            \n",
        "            loss_accum += loss_value\n",
        "\n",
        "        ave_loss = loss_accum / i_step\n",
        "        train_accuracy = float(correct_samples) / total_samples\n",
        "        val_accuracy = compute_accuracy(model, val_loader)\n",
        "        \n",
        "        loss_history.append(float(ave_loss))\n",
        "        train_history.append(train_accuracy)\n",
        "        val_history.append(val_accuracy)\n",
        "        \n",
        "        print(\"Average loss: %f, Train accuracy: %f, Val accuracy: %f\" % (ave_loss, train_accuracy, val_accuracy))\n",
        "        \n",
        "    return loss_history, train_history, val_history\n",
        "        \n",
        "def compute_accuracy(model, loader):\n",
        "    \"\"\"\n",
        "    Computes accuracy on the dataset wrapped in a loader\n",
        "    \n",
        "    Returns: accuracy as a float value between 0 and 1\n",
        "    \"\"\"\n",
        "    model.eval() # Evaluation mode\n",
        "    # TODO: Copy implementation from previous assignment\n",
        "    # Don't forget to move the data to device before running it through the model!\n",
        "    num_correct = 0\n",
        "    num_samples = 0\n",
        "    for x, y in loader:\n",
        "        x_gpu = x.to(device)\n",
        "        y_gpu = y.to(device)\n",
        "        scores = model(x_gpu)\n",
        "        preds = torch.argmax(scores, 1)\n",
        "        num_correct += (preds == y_gpu).sum()\n",
        "        num_samples += preds.size(0)\n",
        "    acc = float(num_correct) / num_samples\n",
        "    \n",
        "    return acc\n",
        "\n",
        "loss_history, train_history, val_history = train_model(nn_model, train_loader, val_loader, loss, optimizer, 5)"
      ],
      "execution_count": 8,
      "outputs": [
        {
          "output_type": "stream",
          "text": [
            "Average loss: 1.404081, Train accuracy: 0.530099, Val accuracy: 0.733124\n",
            "Average loss: 0.684309, Train accuracy: 0.792581, Val accuracy: 0.783223\n",
            "Average loss: 0.583188, Train accuracy: 0.823806, Val accuracy: 0.799195\n",
            "Average loss: 0.540876, Train accuracy: 0.840204, Val accuracy: 0.817555\n",
            "Average loss: 0.506865, Train accuracy: 0.849213, Val accuracy: 0.820695\n"
          ],
          "name": "stdout"
        }
      ]
    },
    {
      "cell_type": "markdown",
      "metadata": {
        "id": "6a-3a1ZFGEw_"
      },
      "source": [
        "# Аугментация данных (Data augmentation)\n",
        "\n",
        "В работе с изображениями одним из особенно важных методов является аугментация данных - то есть, генерация дополнительных данных для тренировки на основе изначальных.   \n",
        "Таким образом, мы получаем возможность \"увеличить\" набор данных для тренировки, что ведет к лучшей работе сети.\n",
        "Важно, чтобы аугментированные данные были похожи на те, которые могут встретиться в реальной жизни, иначе польза от аугментаций уменьшается и может ухудшить работу сети.\n",
        "\n",
        "С PyTorch идут несколько таких алгоритмов, называемых `transforms`. Более подробно про них можно прочитать тут -\n",
        "https://pytorch.org/tutorials/beginner/data_loading_tutorial.html#transforms\n",
        "\n",
        "Ниже мы используем следующие алгоритмы генерации:\n",
        "- ColorJitter - случайное изменение цвета\n",
        "- RandomHorizontalFlip - горизонтальное отражение с вероятностью 50%\n",
        "- RandomVerticalFlip - вертикальное отражение с вероятностью 50%\n",
        "- RandomRotation - случайный поворот"
      ]
    },
    {
      "cell_type": "code",
      "metadata": {
        "colab": {
          "base_uri": "https://localhost:8080/"
        },
        "id": "jCWMUWmr7t5g",
        "outputId": "73080a93-038c-4801-ad64-d4b44dfe5306"
      },
      "source": [
        "tfs = transforms.Compose([\n",
        "    transforms.ColorJitter(hue=.50, saturation=.50),\n",
        "    transforms.RandomHorizontalFlip(),\n",
        "    transforms.RandomVerticalFlip(),\n",
        "    transforms.RandomRotation(50, resample=PIL.Image.BILINEAR),\n",
        "    transforms.ToTensor(),\n",
        "    transforms.Normalize(mean=[0.43,0.44,0.47],\n",
        "                       std=[0.20,0.20,0.20])                           \n",
        "])\n",
        "\n",
        "# Create augmented train dataset\n",
        "data_aug_train = dset.SVHN('../data', \n",
        "                       transform=tfs\n",
        "                      )\n",
        "\n",
        "train_aug_loader = torch.utils.data.DataLoader(data_aug_train, batch_size=batch_size, \n",
        "                                           sampler=train_sampler)"
      ],
      "execution_count": 10,
      "outputs": [
        {
          "output_type": "stream",
          "text": [
            "/usr/local/lib/python3.7/dist-packages/torchvision/transforms/transforms.py:1201: UserWarning: Argument resample is deprecated and will be removed since v0.10.0. Please, use interpolation instead\n",
            "  \"Argument resample is deprecated and will be removed since v0.10.0. Please, use interpolation instead\"\n"
          ],
          "name": "stderr"
        }
      ]
    },
    {
      "cell_type": "markdown",
      "metadata": {
        "id": "YgsTlbi8twMO"
      },
      "source": [
        "Визуализируем результаты агментации (вообще, смотреть на сгенерированные данные всегда очень полезно)."
      ]
    },
    {
      "cell_type": "code",
      "metadata": {
        "colab": {
          "base_uri": "https://localhost:8080/",
          "height": 202
        },
        "id": "YlJJEro1KZ45",
        "outputId": "77246580-f27b-473a-e248-164d202fa211"
      },
      "source": [
        "# TODO: Visualize some augmented images!\n",
        "# hint: you can create new datasets and loaders to accomplish this\n",
        "\n",
        "# Based on the visualizations, should we keep all the augmentations?\n",
        "\n",
        "tfs = transforms.Compose([\n",
        "    transforms.ColorJitter(hue=.20, saturation=.20),\n",
        "    transforms.RandomHorizontalFlip(),\n",
        "    transforms.RandomVerticalFlip(),\n",
        "    transforms.RandomRotation(10, resample=PIL.Image.BILINEAR),\n",
        "])\n",
        "\n",
        "data_aug_vis = dset.SVHN('../data', \n",
        "                       transform=tfs\n",
        "                      )\n",
        "\n",
        "plt.figure(figsize=(30, 3))\n",
        "\n",
        "for i, (x, y) in enumerate(data_aug_vis):\n",
        "    if i == 10:\n",
        "        break\n",
        "    plt.subplot(1, 10, i+1)\n",
        "    plt.grid(False)\n",
        "    plt.imshow(x)\n",
        "    plt.axis('off')"
      ],
      "execution_count": 12,
      "outputs": [
        {
          "output_type": "stream",
          "text": [
            "/usr/local/lib/python3.7/dist-packages/torchvision/transforms/transforms.py:1201: UserWarning: Argument resample is deprecated and will be removed since v0.10.0. Please, use interpolation instead\n",
            "  \"Argument resample is deprecated and will be removed since v0.10.0. Please, use interpolation instead\"\n"
          ],
          "name": "stderr"
        },
        {
          "output_type": "display_data",
          "data": {
            "image/png": "[encoded data removed]",
            "text/plain": [
              "<Figure size 2160x216 with 10 Axes>"
            ]
          },
          "metadata": {
            "tags": [],
            "needs_background": "light"
          }
        }
      ]
    },
    {
      "cell_type": "markdown",
      "metadata": {
        "id": "o2LrmsYHoguB"
      },
      "source": [
        "Все ли агментации одинаково полезны на этом наборе данных? Могут ли быть среди них те, которые собьют модель с толку?\n",
        "\n",
        "Выберите из них только корректные"
      ]
    },
    {
      "cell_type": "code",
      "metadata": {
        "colab": {
          "base_uri": "https://localhost:8080/"
        },
        "id": "evro9ksXGs9u",
        "outputId": "6db92188-4f5c-4675-d3f8-b06f393256a6"
      },
      "source": [
        "# TODO: \n",
        "tfs = transforms.Compose([\n",
        "    # TODO: Add good augmentations\n",
        "    transforms.RandomRotation(15, resample=PIL.Image.BILINEAR),\n",
        "    transforms.ColorJitter(hue = .1, brightness = 0.5),\n",
        "    transforms.ToTensor(),\n",
        "    transforms.Normalize(mean=[0.43,0.44,0.47],\n",
        "                       std=[0.20,0.20,0.20])                           \n",
        "])\n",
        "\n",
        "# TODO create new instances of loaders with the augmentations you chose\n",
        "train_aug_data = dset.SVHN('../data/', transform=tfs)\n",
        "train_aug_loader = torch.utils.data.DataLoader(train_aug_data, batch_size=batch_size, \n",
        "                                               sampler=train_sampler)"
      ],
      "execution_count": 14,
      "outputs": [
        {
          "output_type": "stream",
          "text": [
            "/usr/local/lib/python3.7/dist-packages/torchvision/transforms/transforms.py:1201: UserWarning: Argument resample is deprecated and will be removed since v0.10.0. Please, use interpolation instead\n",
            "  \"Argument resample is deprecated and will be removed since v0.10.0. Please, use interpolation instead\"\n"
          ],
          "name": "stderr"
        }
      ]
    },
    {
      "cell_type": "code",
      "metadata": {
        "colab": {
          "base_uri": "https://localhost:8080/"
        },
        "id": "PeO6Zw0DHqPR",
        "outputId": "70d43b43-39bd-4fb8-f848-152743034c94"
      },
      "source": [
        "# Finally, let's train with augmentations!\n",
        "\n",
        "# Note we shouldn't use augmentations on validation\n",
        "\n",
        "loss_history, train_history, val_history = train_model(nn_model, train_aug_loader, val_loader, loss, optimizer, 5)"
      ],
      "execution_count": 15,
      "outputs": [
        {
          "output_type": "stream",
          "text": [
            "Average loss: 0.721068, Train accuracy: 0.780739, Val accuracy: 0.831343\n",
            "Average loss: 0.656805, Train accuracy: 0.801744, Val accuracy: 0.824517\n",
            "Average loss: 0.630563, Train accuracy: 0.808006, Val accuracy: 0.835233\n",
            "Average loss: 0.610515, Train accuracy: 0.814217, Val accuracy: 0.834892\n",
            "Average loss: 0.594067, Train accuracy: 0.818227, Val accuracy: 0.841171\n"
          ],
          "name": "stdout"
        }
      ]
    },
    {
      "cell_type": "markdown",
      "metadata": {
        "id": "r0bcioK6JBDK"
      },
      "source": [
        "# LeNet\n",
        "Попробуем имплементировать классическую архитектуру сверточной нейронной сети, предложенную Яном ЛеКуном в 1998 году. В свое время она достигла впечатляющих результатов на MNIST, посмотрим как она справится с SVHN?\n",
        "Она описана в статье [\"Gradient Based Learning Applied to Document Recognition\"](http://yann.lecun.com/exdb/publis/pdf/lecun-01a.pdf), попробуйте прочитать ключевые части и имплементировать предложенную архитетуру на PyTorch.\n",
        "\n",
        "Реализовывать слои и функцию ошибки LeNet, которых нет в PyTorch, **не нужно** - просто возьмите их размеры и переведите в уже известные нам Convolutional, Pooling и Fully Connected layers.\n",
        "\n",
        "Если в статье не очень понятно, можно просто погуглить LeNet и разобраться в деталях :)"
      ]
    },
    {
      "cell_type": "code",
      "metadata": {
        "id": "ieEzZUglJAUB"
      },
      "source": [
        "# TODO: Implement LeNet-like architecture for SVHN task\n",
        "lenet_model = nn.Sequential(\n",
        "                nn.Conv2d(3, 6, 5),\n",
        "                nn.ReLU(inplace=True),\n",
        "                nn.MaxPool2d(2),\n",
        "                nn.Conv2d(6, 16, 5),\n",
        "                nn.ReLU(inplace=True),\n",
        "                nn.MaxPool2d(2),    \n",
        "                Flattener(),\n",
        "                nn.Linear(400, 120),\n",
        "                nn.ReLU(inplace=True),\n",
        "                nn.Linear(120, 84),\n",
        "                nn.ReLU(inplace=True),\n",
        "                nn.Linear(84, 10),\n",
        "                nn.LogSoftmax(dim=-1)\n",
        "          )\n",
        "\n",
        "lenet_model.type(torch.cuda.FloatTensor)\n",
        "lenet_model.to(device)\n",
        "\n",
        "loss = nn.CrossEntropyLoss().type(torch.cuda.FloatTensor)\n",
        "optimizer = optim.SGD(lenet_model.parameters(), lr=1e-1, weight_decay=1e-4)"
      ],
      "execution_count": 21,
      "outputs": []
    },
    {
      "cell_type": "code",
      "metadata": {
        "colab": {
          "base_uri": "https://localhost:8080/"
        },
        "id": "WMmaPfdeKk9H",
        "outputId": "035d0394-867e-4e3d-fb96-aea6c7ac2efa"
      },
      "source": [
        "# Let's train it!\n",
        "loss_history, train_history, val_history = train_model(lenet_model, train_aug_loader, val_loader, loss, optimizer, 10)"
      ],
      "execution_count": 22,
      "outputs": [
        {
          "output_type": "stream",
          "text": [
            "Average loss: 1.555035, Train accuracy: 0.466932, Val accuracy: 0.786772\n",
            "Average loss: 0.659765, Train accuracy: 0.802153, Val accuracy: 0.827793\n",
            "Average loss: 0.539643, Train accuracy: 0.838310, Val accuracy: 0.868746\n",
            "Average loss: 0.484959, Train accuracy: 0.852626, Val accuracy: 0.871340\n",
            "Average loss: 0.443391, Train accuracy: 0.868051, Val accuracy: 0.867040\n",
            "Average loss: 0.420878, Train accuracy: 0.872829, Val accuracy: 0.884718\n",
            "Average loss: 0.401206, Train accuracy: 0.880951, Val accuracy: 0.883011\n",
            "Average loss: 0.382150, Train accuracy: 0.885950, Val accuracy: 0.886288\n",
            "Average loss: 0.371121, Train accuracy: 0.888476, Val accuracy: 0.890451\n",
            "Average loss: 0.359491, Train accuracy: 0.891871, Val accuracy: 0.886561\n"
          ],
          "name": "stdout"
        }
      ]
    },
    {
      "cell_type": "code",
      "metadata": {
        "id": "9_6350lv6lSk",
        "outputId": "82fe0b7c-e14e-4b9f-fe94-40b2da865cd7",
        "colab": {
          "base_uri": "https://localhost:8080/"
        }
      },
      "source": [
        ""
      ],
      "execution_count": 32,
      "outputs": [
        {
          "output_type": "execute_result",
          "data": {
            "text/plain": [
              "5.0"
            ]
          },
          "metadata": {
            "tags": []
          },
          "execution_count": 32
        }
      ]
    },
    {
      "cell_type": "markdown",
      "metadata": {
        "id": "u_O9qiYySvuj"
      },
      "source": [
        "# Подбор гиперпараметров"
      ]
    },
    {
      "cell_type": "code",
      "metadata": {
        "colab": {
          "base_uri": "https://localhost:8080/"
        },
        "id": "i6mhfdQ9K-N3",
        "outputId": "2633db43-9dce-4993-b612-ec2b5bfaf234"
      },
      "source": [
        "# The key hyperparameters we're going to tune are learning speed, annealing rate and regularization\n",
        "# We also encourage you to try different optimizers as well\n",
        "\n",
        "Hyperparams = namedtuple(\"Hyperparams\", ['learning_rate', 'anneal_epochs', 'reg'])\n",
        "RunResult = namedtuple(\"RunResult\", ['model', 'train_history', 'val_history', 'final_val_accuracy'])\n",
        "\n",
        "learning_rates = [1e0, 1e-1, 1e-2, 1e-3, 1e-4]\n",
        "anneal_coeff = 0.2\n",
        "anneal_epochs = [1, 5, 10, 15, 20, 50]\n",
        "reg = [1e-3, 1e-4, 1e-5, 1e-7]\n",
        "\n",
        "batch_size = 64\n",
        "epoch_num = 10\n",
        "\n",
        "tfs = transforms.Compose([\n",
        "    transforms.RandomRotation(15, resample=PIL.Image.BILINEAR),\n",
        "    transforms.ColorJitter(hue = .1, brightness = 0.5),\n",
        "    transforms.ToTensor(),\n",
        "    transforms.Normalize(mean=[0.43,0.44,0.47],\n",
        "                       std=[0.20,0.20,0.20])                           \n",
        "])\n",
        "\n",
        "train_aug_data = dset.SVHN('../data/', transform=tfs)\n",
        "train_aug_loader = torch.utils.data.DataLoader(train_aug_data, batch_size=batch_size, \n",
        "                                               sampler=train_sampler)\n",
        "run_record = {} \n",
        "iters = 5\n",
        "for iter in range(iters):\n",
        "  learning_rate = float(np.random.choice(learning_rates, 1))\n",
        "  reg_ = float(np.random.choice(reg, 1))\n",
        "  epochs = int(np.random.choice(anneal_epochs, 1))\n",
        "  print(f\"Iter {iter}, learning_rate: {learning_rate}, reg: {reg_}, epochs: {epochs}\")\n",
        "\n",
        "  lenet_model = nn.Sequential(\n",
        "                nn.Conv2d(3, 6, 5),\n",
        "                nn.ReLU(inplace=True),\n",
        "                nn.MaxPool2d(2),\n",
        "                nn.Conv2d(6, 16, 5),\n",
        "                nn.ReLU(inplace=True),\n",
        "                nn.MaxPool2d(2),    \n",
        "                Flattener(),\n",
        "                nn.Linear(400, 120),\n",
        "                nn.ReLU(inplace=True),\n",
        "                nn.Linear(120, 84),\n",
        "                nn.ReLU(inplace=True),\n",
        "                nn.Linear(84, 10),\n",
        "                nn.LogSoftmax(dim=-1)\n",
        "          )\n",
        "  lenet_model.type(torch.cuda.FloatTensor)\n",
        "  lenet_model.to(device)\n",
        "  loss = nn.CrossEntropyLoss().type(torch.cuda.FloatTensor)\n",
        "  optimizer = optim.SGD(lenet_model.parameters(), lr=learning_rate, weight_decay=reg_)\n",
        "\n",
        "  loss_history, train_history, val_history = train_model(lenet_model, train_aug_loader, val_loader, loss, optimizer, epochs)\n",
        "  huper_params = Hyperparams(learning_rate, epochs, reg_)\n",
        "  run_result = RunResult(lenet_model, loss_history, val_history, max(val_history))\n",
        "  run_record[huper_params] = run_result"
      ],
      "execution_count": 37,
      "outputs": [
        {
          "output_type": "stream",
          "text": [
            "/usr/local/lib/python3.7/dist-packages/torchvision/transforms/transforms.py:1201: UserWarning: Argument resample is deprecated and will be removed since v0.10.0. Please, use interpolation instead\n",
            "  \"Argument resample is deprecated and will be removed since v0.10.0. Please, use interpolation instead\"\n"
          ],
          "name": "stderr"
        },
        {
          "output_type": "stream",
          "text": [
            "Iter 0, learning_rate: 1.0, reg: 1e-05, epochs: 5\n",
            "Average loss: nan, Train accuracy: 0.115790, Val accuracy: 0.064364\n",
            "Average loss: nan, Train accuracy: 0.068338, Val accuracy: 0.064364\n",
            "Average loss: nan, Train accuracy: 0.068338, Val accuracy: 0.064364\n",
            "Average loss: nan, Train accuracy: 0.068338, Val accuracy: 0.064364\n",
            "Average loss: nan, Train accuracy: 0.068338, Val accuracy: 0.064364\n",
            "Iter 1, learning_rate: 0.0001, reg: 1e-07, epochs: 5\n",
            "Average loss: 2.297099, Train accuracy: 0.189878, Val accuracy: 0.186335\n",
            "Average loss: 2.295129, Train accuracy: 0.189929, Val accuracy: 0.186335\n",
            "Average loss: 2.293329, Train accuracy: 0.189929, Val accuracy: 0.186335\n",
            "Average loss: 2.291292, Train accuracy: 0.189929, Val accuracy: 0.186335\n",
            "Average loss: 2.289567, Train accuracy: 0.189929, Val accuracy: 0.186335\n",
            "Iter 2, learning_rate: 0.01, reg: 0.0001, epochs: 20\n",
            "Average loss: 2.251941, Train accuracy: 0.184572, Val accuracy: 0.186335\n",
            "Average loss: 2.231376, Train accuracy: 0.189929, Val accuracy: 0.186335\n",
            "Average loss: 2.067065, Train accuracy: 0.265707, Val accuracy: 0.448570\n",
            "Average loss: 1.466172, Train accuracy: 0.527796, Val accuracy: 0.668760\n",
            "Average loss: 1.036111, Train accuracy: 0.683224, Val accuracy: 0.749437\n",
            "Average loss: 0.802248, Train accuracy: 0.760042, Val accuracy: 0.806771\n",
            "Average loss: 0.678049, Train accuracy: 0.799884, Val accuracy: 0.829704\n",
            "Average loss: 0.613608, Train accuracy: 0.818039, Val accuracy: 0.846905\n",
            "Average loss: 0.566162, Train accuracy: 0.831809, Val accuracy: 0.854481\n",
            "Average loss: 0.535815, Train accuracy: 0.840699, Val accuracy: 0.861716\n",
            "Average loss: 0.512245, Train accuracy: 0.846739, Val accuracy: 0.858849\n",
            "Average loss: 0.486671, Train accuracy: 0.854844, Val accuracy: 0.867859\n",
            "Average loss: 0.472297, Train accuracy: 0.859229, Val accuracy: 0.867040\n",
            "Average loss: 0.455673, Train accuracy: 0.863973, Val accuracy: 0.876322\n",
            "Average loss: 0.443636, Train accuracy: 0.868119, Val accuracy: 0.876868\n",
            "Average loss: 0.431703, Train accuracy: 0.870935, Val accuracy: 0.880349\n",
            "Average loss: 0.424106, Train accuracy: 0.872470, Val accuracy: 0.878234\n",
            "Average loss: 0.413902, Train accuracy: 0.876002, Val accuracy: 0.878165\n",
            "Average loss: 0.401695, Train accuracy: 0.878255, Val accuracy: 0.880349\n",
            "Average loss: 0.394823, Train accuracy: 0.881565, Val accuracy: 0.883967\n",
            "Iter 3, learning_rate: 0.001, reg: 0.0001, epochs: 20\n",
            "Average loss: 2.298805, Train accuracy: 0.128929, Val accuracy: 0.186335\n",
            "Average loss: 2.276029, Train accuracy: 0.189929, Val accuracy: 0.186335\n",
            "Average loss: 2.254632, Train accuracy: 0.189929, Val accuracy: 0.186335\n",
            "Average loss: 2.243368, Train accuracy: 0.189929, Val accuracy: 0.186335\n",
            "Average loss: 2.241003, Train accuracy: 0.189929, Val accuracy: 0.186335\n",
            "Average loss: 2.239846, Train accuracy: 0.189929, Val accuracy: 0.186335\n",
            "Average loss: 2.238761, Train accuracy: 0.189929, Val accuracy: 0.186335\n",
            "Average loss: 2.238465, Train accuracy: 0.189929, Val accuracy: 0.186335\n",
            "Average loss: 2.237844, Train accuracy: 0.189929, Val accuracy: 0.186335\n",
            "Average loss: 2.237515, Train accuracy: 0.189929, Val accuracy: 0.186335\n",
            "Average loss: 2.236561, Train accuracy: 0.189929, Val accuracy: 0.186335\n",
            "Average loss: 2.236220, Train accuracy: 0.189929, Val accuracy: 0.186335\n",
            "Average loss: 2.235099, Train accuracy: 0.189929, Val accuracy: 0.186335\n",
            "Average loss: 2.233999, Train accuracy: 0.189929, Val accuracy: 0.186335\n",
            "Average loss: 2.233146, Train accuracy: 0.189929, Val accuracy: 0.186335\n",
            "Average loss: 2.231451, Train accuracy: 0.189929, Val accuracy: 0.186335\n",
            "Average loss: 2.230170, Train accuracy: 0.189929, Val accuracy: 0.186335\n",
            "Average loss: 2.228446, Train accuracy: 0.189929, Val accuracy: 0.186335\n",
            "Average loss: 2.226092, Train accuracy: 0.189929, Val accuracy: 0.186335\n",
            "Average loss: 2.222965, Train accuracy: 0.189929, Val accuracy: 0.186335\n",
            "Iter 4, learning_rate: 0.01, reg: 1e-07, epochs: 20\n",
            "Average loss: 2.253467, Train accuracy: 0.178207, Val accuracy: 0.186335\n",
            "Average loss: 2.234397, Train accuracy: 0.189929, Val accuracy: 0.186335\n",
            "Average loss: 2.207153, Train accuracy: 0.194724, Val accuracy: 0.202990\n",
            "Average loss: 1.726222, Train accuracy: 0.417244, Val accuracy: 0.680841\n",
            "Average loss: 0.974951, Train accuracy: 0.706037, Val accuracy: 0.776534\n",
            "Average loss: 0.779620, Train accuracy: 0.771935, Val accuracy: 0.814961\n",
            "Average loss: 0.691655, Train accuracy: 0.797922, Val accuracy: 0.831684\n",
            "Average loss: 0.635425, Train accuracy: 0.815565, Val accuracy: 0.838509\n",
            "Average loss: 0.592851, Train accuracy: 0.827168, Val accuracy: 0.845813\n",
            "Average loss: 0.558279, Train accuracy: 0.833686, Val accuracy: 0.858576\n",
            "Average loss: 0.537603, Train accuracy: 0.841757, Val accuracy: 0.859464\n",
            "Average loss: 0.515787, Train accuracy: 0.847012, Val accuracy: 0.852638\n",
            "Average loss: 0.491218, Train accuracy: 0.854349, Val accuracy: 0.868541\n",
            "Average loss: 0.476007, Train accuracy: 0.857318, Val accuracy: 0.872500\n",
            "Average loss: 0.460718, Train accuracy: 0.863478, Val accuracy: 0.861238\n",
            "Average loss: 0.448966, Train accuracy: 0.865748, Val accuracy: 0.874343\n",
            "Average loss: 0.434619, Train accuracy: 0.870508, Val accuracy: 0.880691\n",
            "Average loss: 0.424006, Train accuracy: 0.874211, Val accuracy: 0.881715\n",
            "Average loss: 0.416976, Train accuracy: 0.876583, Val accuracy: 0.881373\n",
            "Average loss: 0.406041, Train accuracy: 0.878135, Val accuracy: 0.879940\n"
          ],
          "name": "stdout"
        }
      ]
    },
    {
      "cell_type": "code",
      "metadata": {
        "colab": {
          "base_uri": "https://localhost:8080/"
        },
        "id": "Y6xExdw8JB1l",
        "outputId": "90556366-8ea1-4bc1-fa79-18f8f4c8a701"
      },
      "source": [
        "best_val_accuracy = None\n",
        "best_hyperparams = None\n",
        "best_run = None\n",
        "\n",
        "for hyperparams, run_result in run_record.items():\n",
        "    if best_val_accuracy is None or best_val_accuracy < run_result.final_val_accuracy:\n",
        "        best_val_accuracy = run_result.final_val_accuracy\n",
        "        best_hyperparams = hyperparams\n",
        "        best_run = run_result\n",
        "        \n",
        "print(\"Best validation accuracy: %4.2f, best hyperparams: %s\" % (best_val_accuracy, best_hyperparams))\n",
        "        "
      ],
      "execution_count": 38,
      "outputs": [
        {
          "output_type": "stream",
          "text": [
            "Best validation accuracy: 0.88, best hyperparams: Hyperparams(learning_rate=0.01, anneal_epochs=20, reg=0.0001)\n"
          ],
          "name": "stdout"
        }
      ]
    },
    {
      "cell_type": "markdown",
      "metadata": {
        "id": "LOmsR0uVgtgf"
      },
      "source": [
        "# Свободное упражнение - догоним и перегоним LeNet!\n",
        "\n",
        "Попробуйте найти архитектуру и настройки тренировки, чтобы выступить лучше наших бейзлайнов.\n",
        "\n",
        "Что можно и нужно попробовать:\n",
        "- BatchNormalization (для convolution layers он в PyTorch называется [batchnorm2d](https://pytorch.org/docs/stable/nn.html#batchnorm2d))\n",
        "- Изменить количество слоев и их толщину\n",
        "- Изменять количество эпох тренировки\n",
        "- Попробовать и другие агментации"
      ]
    },
    {
      "cell_type": "code",
      "metadata": {
        "id": "tSVhD747icoc"
      },
      "source": [
        "best_model = None"
      ],
      "execution_count": null,
      "outputs": []
    },
    {
      "cell_type": "markdown",
      "metadata": {
        "id": "ubeKgBcnhx7N"
      },
      "source": [
        "# Финальный аккорд - проверим лучшую модель на test set\n",
        "\n",
        "В качестве разнообразия - напишите код для прогона модели на test set вы.\n",
        "\n",
        "В результате вы должны натренировать модель, которая покажет более **90%** точности на test set.  \n",
        "Как водится, лучший результат в группе получит дополнительные баллы!"
      ]
    },
    {
      "cell_type": "code",
      "metadata": {
        "id": "EIqM1kdeh-hd"
      },
      "source": [
        "# TODO Write the code to compute accuracy on test set\n",
        "final_test_accuracy = 0.0\n",
        "print(\"Final test accuracy - \", final_test_accuracy)"
      ],
      "execution_count": null,
      "outputs": []
    },
    {
      "cell_type": "code",
      "metadata": {
        "id": "BfH6qip6kVX_"
      },
      "source": [
        ""
      ],
      "execution_count": null,
      "outputs": []
    }
  ]
}